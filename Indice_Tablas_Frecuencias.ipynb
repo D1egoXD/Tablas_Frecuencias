{
 "cells": [
  {
   "cell_type": "markdown",
   "id": "9cd5ce75",
   "metadata": {},
   "source": [
    "# 📊 Índice de Tablas de Frecuencias y Gráficos\n",
    "\n",
    "Este proyecto contiene tres Notebooks que ilustran cómo generar y analizar distintos tipos de datos estadísticos mediante tablas de frecuencias y gráficos. Cada uno incluye:\n",
    "\n",
    "- Generación de 500 datos aleatorios.\n",
    "- Cálculo de frecuencias (absoluta, relativa, acumulada).\n",
    "- Visualización mediante histogramas, diagramas de barras, polígonos de frecuencia, diagramas de pastel y ojivas (según corresponda).\n",
    "\n",
    "---\n",
    "\n",
    "## 🟢 1. [Cuantitativos Discretos](cuantitativos_discretos.ipynb)\n",
    "\n",
    "\n",
    "- Histograma\n",
    "- Diagrama de barras horizontales\n",
    "- Polígono de frecuencia (relativa)\n",
    "- Diagrama de pastel (relativa)\n",
    "- Ojiva (acumulada)\n",
    "\n",
    "---\n",
    "\n",
    "## 🔵 2. [Cuantitativos Continuos](datos_cuantitativos_continuos.ipynb)\n",
    "\n",
    "- Histograma\n",
    "- Diagrama de barras horizontales\n",
    "- Polígono de frecuencia (relativa)\n",
    "- Diagrama de pastel (relativa)\n",
    "- Ojiva (acumulada)\n",
    "\n",
    "\n",
    "## 🟣 3. [Cualitativos](Daniel_datos_cualitativos.ipynb)\n",
    "\n",
    "- Histograma\n",
    "- Diagrama de barras horizontales\n",
    "- Polígono de frecuencia (relativa)\n",
    "- Diagrama de pastel (relativa)\n",
    "- Ojiva (acumulada)\n"
   ]
  }
 ],
 "metadata": {
  "language_info": {
   "name": "python"
  }
 },
 "nbformat": 4,
 "nbformat_minor": 5
}
